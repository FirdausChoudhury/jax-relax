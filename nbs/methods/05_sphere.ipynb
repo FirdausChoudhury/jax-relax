{
 "cells": [
  {
   "cell_type": "markdown",
   "metadata": {},
   "source": [
    "# Growing Sphere\n",
    "\n",
    "Note: This method assumes that categorical transformation is either 'ohe' or 'ordinal'."
   ]
  },
  {
   "cell_type": "code",
   "execution_count": null,
   "metadata": {},
   "outputs": [],
   "source": [
    "#| default_exp methods.sphere"
   ]
  },
  {
   "cell_type": "code",
   "execution_count": null,
   "metadata": {},
   "outputs": [],
   "source": [
    "#| include: false\n",
    "%load_ext autoreload\n",
    "%autoreload 2\n",
    "from ipynb_path import *\n",
    "from nbdev import show_doc\n",
    "import warnings\n",
    "warnings.simplefilter(action='ignore', category=FutureWarning)"
   ]
  },
  {
   "cell_type": "code",
   "execution_count": null,
   "metadata": {},
   "outputs": [
    {
     "name": "stdout",
     "output_type": "stream",
     "text": [
      "Using JAX backend.\n"
     ]
    },
    {
     "name": "stderr",
     "output_type": "stream",
     "text": [
      "An NVIDIA GPU may be present on this machine, but a CUDA-enabled jaxlib is not installed. Falling back to cpu.\n"
     ]
    }
   ],
   "source": [
    "#| export\n",
    "from __future__ import annotations\n",
    "from relax.import_essentials import *\n",
    "from relax.methods.base import CFModule, BaseConfig, default_apply_constraints_fn\n",
    "from relax.utils import auto_reshaping, grad_update, validate_configs\n",
    "from relax.data_utils import Feature, FeaturesList\n",
    "from relax.data_module import DataModule"
   ]
  },
  {
   "cell_type": "code",
   "execution_count": null,
   "metadata": {},
   "outputs": [],
   "source": [
    "#| hide\n",
    "from relax.data_module import load_data\n",
    "from relax.ml_model import load_ml_module"
   ]
  },
  {
   "cell_type": "code",
   "execution_count": null,
   "metadata": {},
   "outputs": [],
   "source": [
    "#| export\n",
    "@partial(jit, static_argnums=(2, 5))\n",
    "def hyper_sphere_coordindates(\n",
    "    rng_key: jrand.PRNGKey, # Random number generator key\n",
    "    x: Array, # Input instance with only continuous features. Shape: (1, n_features)\n",
    "    n_samples: int, # Number of samples\n",
    "    high: float, # Upper bound\n",
    "    low: float, # Lower bound\n",
    "    p_norm: int = 2 # Norm\n",
    "):\n",
    "    # Adapted from \n",
    "    # https://github.com/carla-recourse/CARLA/blob/24db00aa8616eb2faedea0d6edf6e307cee9d192/carla/recourse_methods/catalog/growing_spheres/library/gs_counterfactuals.py#L8\n",
    "    key_1, key_2 = jrand.split(rng_key)\n",
    "    delta = jrand.normal(key_1, shape=(n_samples, x.shape[-1]))\n",
    "    dist = jrand.uniform(key_2, shape=(n_samples,)) * (high - low) + low\n",
    "    norm_p = jnp.linalg.norm(delta, ord=p_norm, axis=1)\n",
    "    d_norm = jnp.divide(dist, norm_p).reshape(-1, 1)  # rescale/normalize factor\n",
    "    delta = jnp.multiply(delta, d_norm)\n",
    "    candidates = x + delta\n",
    "\n",
    "    return candidates"
   ]
  },
  {
   "cell_type": "code",
   "execution_count": null,
   "metadata": {},
   "outputs": [],
   "source": [
    "#| export\n",
    "def sample_categorical(rng_key: jrand.PRNGKey, col_size: int, n_samples: int):\n",
    "    rng_key, _ = jrand.split(rng_key)\n",
    "    prob = jnp.ones(col_size) / col_size\n",
    "    cat_sample = jrand.categorical(rng_key, prob, shape=(n_samples, 1))\n",
    "    return cat_sample"
   ]
  },
  {
   "cell_type": "code",
   "execution_count": null,
   "metadata": {},
   "outputs": [],
   "source": [
    "#| export\n",
    "def default_perturb_function(\n",
    "    rng_key: jrand.PRNGKey,\n",
    "    x: np.ndarray, # Shape: (1, k)\n",
    "    n_samples: int,\n",
    "    high: float,\n",
    "    low: float,\n",
    "    p_norm: int\n",
    "):\n",
    "    return hyper_sphere_coordindates(\n",
    "        rng_key, x, n_samples, high, low, p_norm\n",
    "    )\n",
    "\n",
    "# def perturb_function_with_features(\n",
    "#     rng_key: jrand.PRNGKey,\n",
    "#     x: np.ndarray, # Shape: (1, k)\n",
    "#     n_samples: int,\n",
    "#     high, \n",
    "#     low,\n",
    "#     p_norm,\n",
    "#     feats: FeaturesList,\n",
    "# ):\n",
    "#     def perturb_feature(rng_key, x, feat):\n",
    "#         if feat.is_categorical:\n",
    "#             sampled_cat = sample_categorical(\n",
    "#                 rng_key, feat.transformation.num_categories, n_samples\n",
    "#             ) #<== sampled labels\n",
    "#             transformation = feat.transformation.name\n",
    "#             if transformation == 'ohe':\n",
    "#                 return jax.nn.one_hot(\n",
    "#                     sampled_cat.reshape(-1), num_classes=feat.transformation.num_categories\n",
    "#                 ) #<== transformed labels\n",
    "#             elif transformation == 'ordinal':\n",
    "#                 return sampled_cat\n",
    "#             else:\n",
    "#                 raise NotImplementedError\n",
    "#         else: \n",
    "#             return hyper_sphere_coordindates(\n",
    "#                 rng_key, x, n_samples, high, low, p_norm\n",
    "#             ) #<== transformed continuous features\n",
    "        \n",
    "#     rng_keys = jrand.split(rng_key, len(feats))\n",
    "#     perturbed = jnp.repeat(x, n_samples, axis=0)\n",
    "#     for rng_key, (start, end), feat in zip(rng_keys, feats.feature_indices, feats):\n",
    "#         _perturbed_feat = perturb_feature(rng_keys[0], x[:, start: end], feat)\n",
    "#         perturbed = perturbed.at[:, start: end].set(_perturbed_feat)\n",
    "#     return perturbed\n"
   ]
  },
  {
   "cell_type": "code",
   "execution_count": null,
   "metadata": {},
   "outputs": [],
   "source": [
    "#| export\n",
    "@partial(jit, static_argnums=(2, 5, 8, 9))\n",
    "def perturb_function_with_features(\n",
    "    rng_key: jrand.PRNGKey,\n",
    "    x: np.ndarray, # Shape: (1, k)\n",
    "    n_samples: int,\n",
    "    high: float, \n",
    "    low: float,\n",
    "    p_norm: int,\n",
    "    cont_masks: Array,\n",
    "    immut_masks: Array,\n",
    "    num_categories: list[int],\n",
    "    cat_perturb_fn: Callable\n",
    "):\n",
    "        \n",
    "    def perturb_cat_feat(rng_key, num_categories):\n",
    "        rng_key, next_key = jrand.split(rng_key)\n",
    "        sampled = cat_perturb_fn(rng_key, num_categories, n_samples)\n",
    "        return next_key, sampled\n",
    "    \n",
    "    # cont_masks, immut_masks, num_categories = feats_info\n",
    "    key_1, key_2 = jrand.split(rng_key)\n",
    "    perturbed_cont = cont_masks * hyper_sphere_coordindates(\n",
    "        key_1, x, n_samples, high, low, p_norm\n",
    "    )\n",
    "    cat_masks = jnp.where(cont_masks, 0, 1)\n",
    "    perturbed_cat = cat_masks * jnp.concatenate([\n",
    "        perturb_cat_feat(key_2, num_cat)[1] for num_cat in num_categories\n",
    "    ], axis=1)\n",
    "\n",
    "    perturbed = jnp.where(\n",
    "        immut_masks,\n",
    "        jnp.repeat(x, n_samples, axis=0),\n",
    "        perturbed_cont + perturbed_cat\n",
    "    )\n",
    "    \n",
    "    return perturbed"
   ]
  },
  {
   "cell_type": "code",
   "execution_count": null,
   "metadata": {},
   "outputs": [],
   "source": [
    "#| exporti\n",
    "def features_to_infos_and_perturb_fn(\n",
    "    features: FeaturesList\n",
    ") -> Tuple[List[Array,Array,Array,Array,Array], Callable]:\n",
    "    cont_masks = []\n",
    "    immut_masks = []\n",
    "    n_categories = []\n",
    "    cat_transformation_name = None\n",
    "    for (start, end), feat in zip(features.feature_indices, features):\n",
    "        if feat.is_categorical:\n",
    "            cont_mask = jnp.zeros(feat.transformation.num_categories)\n",
    "            immut_mask = jnp.ones_like(cont_mask) * np.array([feat.is_immutable], dtype=np.int32)\n",
    "            n_categorie = feat.transformation.num_categories\n",
    "            cat_transformation_name = feat.transformation.name\n",
    "        else:\n",
    "            cont_mask = jnp.ones(1)\n",
    "            immut_mask = cont_mask * np.array([feat.is_immutable], dtype=np.int32)\n",
    "            n_categorie = 1\n",
    "        \n",
    "        cont_masks, immut_masks, n_categories = map(lambda x, y: x + [y], \n",
    "            [cont_masks, immut_masks, n_categories],\n",
    "            [cont_mask, immut_mask, n_categorie]\n",
    "        )\n",
    "    \n",
    "    cont_masks, immut_masks = map(lambda x: jnp.concatenate(x, axis=0), [cont_masks, immut_masks])\n",
    "    return (cont_masks, immut_masks, tuple(n_categories)), cat_perturb_fn(cat_transformation_name)\n",
    "\n",
    "def cat_perturb_fn(transformation):\n",
    "    def ohe_perturb_fn(rng_key, num_categories, n_samples):\n",
    "        sampled_cat = sample_categorical(rng_key, num_categories, n_samples)\n",
    "        return jax.nn.one_hot(\n",
    "            sampled_cat.reshape(-1), num_classes=num_categories\n",
    "        )\n",
    "    \n",
    "    def ordinal_perturb_fn(rng_key, num_categories, n_samples):\n",
    "        return sample_categorical(\n",
    "            rng_key, num_categories, n_samples\n",
    "        )\n",
    "    \n",
    "    if transformation == 'ohe':         return ohe_perturb_fn\n",
    "    elif transformation == 'ordinal':   return ordinal_perturb_fn\n",
    "    else:                               return sample_categorical\n"
   ]
  },
  {
   "cell_type": "code",
   "execution_count": null,
   "metadata": {},
   "outputs": [],
   "source": [
    "dm = load_data('adult')\n",
    "x_sliced = dm.xs[:1]\n",
    "feats_info, perturb_fn = features_to_infos_and_perturb_fn(dm.features)\n",
    "cont_masks, immut_masks, num_categories = feats_info\n",
    "assert np.array_equal(cont_masks, np.array([1, 1] + [0] * 27))\n",
    "assert immut_masks.sum() == 2 + 2\n",
    "assert x_sliced.ndim == 2\n",
    "cfs = perturb_function_with_features(\n",
    "    jrand.PRNGKey(0), x_sliced, 1000, 1, 0, 2, *feats_info, perturb_fn\n",
    ")\n",
    "assert cfs.shape == (1000, 29)\n",
    "assert cfs[:, 2:].sum() == 1000 * 6\n",
    "assert default_perturb_function(\n",
    "    jrand.PRNGKey(0), x_sliced, 100, 1, 0, 2,\n",
    ").shape == (100, 29)"
   ]
  },
  {
   "cell_type": "code",
   "execution_count": null,
   "metadata": {},
   "outputs": [],
   "source": [
    "#| export\n",
    "@ft.partial(jit, static_argnums=(3, 4, 5, 6, 7, 8, 9))\n",
    "def _growing_spheres(\n",
    "    rng_key: jrand.PRNGKey, # Random number generator key\n",
    "    y_target: Array, # Target label\n",
    "    x: Array, # Input instance. Shape: (n_features)\n",
    "    pred_fn: Callable, # Prediction function\n",
    "    n_steps: int, # Number of steps\n",
    "    n_samples: int,  # Number of samples to sample\n",
    "    step_size: float, # Step size\n",
    "    p_norm: int, # Norm\n",
    "    perturb_fn: Callable, # Perturbation function\n",
    "    apply_constraints_fn: Callable, # Apply immutable constraints\n",
    "    dtype: jnp.dtype = jnp.float32, # Data type\n",
    "): \n",
    "    @jit\n",
    "    def dist_fn(x, cf):\n",
    "        if p_norm == 1:\n",
    "            return jnp.abs(cf - x).sum(axis=1)\n",
    "        elif p_norm == 2:\n",
    "            return jnp.linalg.norm(cf - x, ord=2, axis=1)\n",
    "        else:\n",
    "            raise ValueError(\"Only p_norm = 1 or 2 is supported\")\n",
    "    \n",
    "    @loop_tqdm(n_steps)\n",
    "    def step(i, state):\n",
    "        candidate_cf, count, rng_key = state\n",
    "        rng_key, subkey = jrand.split(rng_key)\n",
    "        low, high = step_size * count, step_size * (count + 1)\n",
    "        # Sample around x\n",
    "        candidates = perturb_fn(rng_key, x, n_samples, high=high, low=low, p_norm=p_norm)\n",
    "        \n",
    "        # Apply immutable constraints\n",
    "        candidates = apply_constraints_fn(x, candidates, hard=True)\n",
    "        # assert candidates.shape[1] == x.shape[1], f\"candidates.shape = {candidates.shape}, x.shape = {x.shape}\"\n",
    "\n",
    "        # Calculate distance\n",
    "        dist = dist_fn(x, candidates)\n",
    "\n",
    "        # Calculate counterfactual labels\n",
    "        candidate_preds = pred_fn(candidates).argmax(axis=1, keepdims=True)\n",
    "        indices = candidate_preds == y_target\n",
    "\n",
    "        # Select valid candidates and their distances\n",
    "        candidates, dist = jax.tree_util.tree_map(\n",
    "            lambda x: jnp.where(indices, x, jnp.ones_like(x) * jnp.inf), \n",
    "            (candidates, dist)\n",
    "        )\n",
    "\n",
    "        closest_idx = dist.argmin()\n",
    "        candidate_cf_update = candidates[closest_idx].reshape(1, -1)\n",
    "\n",
    "        candidate_cf = jnp.where(\n",
    "            dist[closest_idx].mean() < dist_fn(x, candidate_cf).mean(),\n",
    "            candidate_cf_update, \n",
    "            candidate_cf\n",
    "        )\n",
    "        return candidate_cf, count + 1, subkey\n",
    "    \n",
    "    y_target = y_target.reshape(1, -1).argmax(axis=1)\n",
    "    candidate_cf = jnp.ones_like(x) * jnp.inf\n",
    "    count = 0\n",
    "    state = (candidate_cf, count, rng_key)\n",
    "    candidate_cf, _, _ = lax.fori_loop(0, n_steps, step, state)\n",
    "    # if `inf` is found, return the original input\n",
    "    candidate_cf = jnp.where(jnp.isinf(candidate_cf), x, candidate_cf)\n",
    "    return candidate_cf"
   ]
  },
  {
   "cell_type": "code",
   "execution_count": null,
   "metadata": {},
   "outputs": [],
   "source": [
    "#| export\n",
    "class GSConfig(BaseConfig):\n",
    "    n_steps: int = 100\n",
    "    n_samples: int = 100\n",
    "    step_size: float = 0.05\n",
    "    p_norm: int = 2\n"
   ]
  },
  {
   "cell_type": "code",
   "execution_count": null,
   "metadata": {},
   "outputs": [],
   "source": [
    "#| export\n",
    "class GrowingSphere(CFModule):\n",
    "    def __init__(self, config: dict | GSConfig = None, *, name: str = None, perturb_fn = None):\n",
    "        if config is None:\n",
    "             config = GSConfig()\n",
    "        config = validate_configs(config, GSConfig)\n",
    "        name = \"GrowingSphere\" if name is None else name\n",
    "        self.perturb_fn = perturb_fn\n",
    "        super().__init__(config, name=name)\n",
    "\n",
    "    def has_data_module(self):\n",
    "        return hasattr(self, 'data_module') and self.data_module is not None\n",
    "    \n",
    "    def save(self, path: str, *, save_data_module: bool = True):\n",
    "        self.config.save(Path(path) / 'config.json')\n",
    "        if self.has_data_module() and save_data_module:\n",
    "            self.data_module.save(Path(path) / 'data_module')\n",
    "    \n",
    "    @classmethod\n",
    "    def load_from_path(cls, path: str):\n",
    "        config = GSConfig.load_from_json(Path(path) / 'config.json')\n",
    "        gs = cls(config=config)\n",
    "        if (Path(path) / 'data_module').exists():\n",
    "            dm = DataModule.load_from_path(Path(path) / 'data_module')\n",
    "            gs.set_data_module(dm)\n",
    "        return gs\n",
    "\n",
    "    def before_generate_cf(self, *args, **kwargs):\n",
    "        if self.perturb_fn is None:\n",
    "            if self.has_data_module():\n",
    "                feats_info, perturb_fn = features_to_infos_and_perturb_fn(self.data_module.features)\n",
    "                cont_masks, immut_masks, num_categories = feats_info\n",
    "                self.perturb_fn = ft.partial(\n",
    "                    perturb_function_with_features, \n",
    "                    cont_masks=cont_masks,\n",
    "                    immut_masks=immut_masks,\n",
    "                    num_categories=num_categories,\n",
    "                    cat_perturb_fn=perturb_fn\n",
    "                )\n",
    "                self.apply_constraints = default_apply_constraints_fn\n",
    "            else:\n",
    "                self.perturb_fn = default_perturb_function\n",
    "        \n",
    "    @auto_reshaping('x')\n",
    "    def generate_cf(\n",
    "        self,\n",
    "        x: Array,  # `x` shape: (k,), where `k` is the number of features\n",
    "        pred_fn: Callable[[Array], Array],\n",
    "        y_target: Array = None,\n",
    "        rng_key: jnp.ndarray = None,\n",
    "        **kwargs,\n",
    "    ) -> jnp.DeviceArray:\n",
    "        # TODO: Currently assumes binary classification.\n",
    "        if y_target is None:\n",
    "            y_target = 1 - pred_fn(x)\n",
    "        else:\n",
    "            y_target = y_target.reshape(1, -1)\n",
    "        if rng_key is None:\n",
    "            raise ValueError(\"`rng_key` must be provided, but got `None`.\")\n",
    "        \n",
    "        return _growing_spheres(\n",
    "            rng_key=rng_key,\n",
    "            x=x,\n",
    "            y_target=y_target,\n",
    "            pred_fn=pred_fn,\n",
    "            n_steps=self.config.n_steps,\n",
    "            n_samples=self.config.n_samples,\n",
    "            step_size=self.config.step_size,\n",
    "            p_norm=self.config.p_norm,\n",
    "            perturb_fn=self.perturb_fn,\n",
    "            apply_constraints_fn=self.apply_constraints,\n",
    "        )"
   ]
  },
  {
   "cell_type": "code",
   "execution_count": null,
   "metadata": {},
   "outputs": [],
   "source": [
    "dm = load_data('dummy')\n",
    "model = load_ml_module('dummy')\n",
    "xs_train, ys_train = dm['train']\n",
    "xs_test, ys_test = dm['test']\n",
    "x_shape = xs_test.shape"
   ]
  },
  {
   "cell_type": "code",
   "execution_count": null,
   "metadata": {},
   "outputs": [
    {
     "name": "stdout",
     "output_type": "stream",
     "text": [
      "[0. 0. 0. 0. 0. 0. 0. 0. 0. 0.]\n"
     ]
    },
    {
     "data": {
      "application/vnd.jupyter.widget-view+json": {
       "model_id": "cb643ef8358941f9b44a6485d4c8c6d8",
       "version_major": 2,
       "version_minor": 0
      },
      "text/plain": [
       "  0%|          | 0/100 [00:00<?, ?it/s]"
      ]
     },
     "metadata": {},
     "output_type": "display_data"
    }
   ],
   "source": [
    "gs = GrowingSphere()\n",
    "assert not gs.has_data_module()\n",
    "gs.set_data_module(dm)\n",
    "assert gs.has_data_module()\n",
    "gs.set_apply_constraints_fn(dm.apply_constraints)\n",
    "gs.before_generate_cf()\n",
    "\n",
    "cf = gs.generate_cf(xs_test[0], pred_fn=model.pred_fn, rng_key=jax.random.PRNGKey(0))"
   ]
  },
  {
   "cell_type": "code",
   "execution_count": null,
   "metadata": {},
   "outputs": [
    {
     "data": {
      "application/vnd.jupyter.widget-view+json": {
       "model_id": "6bc22bdc99d44ef9940b7b3df1887b37",
       "version_major": 2,
       "version_minor": 0
      },
      "text/plain": [
       "  0%|          | 0/100 [00:00<?, ?it/s]"
      ]
     },
     "metadata": {},
     "output_type": "display_data"
    }
   ],
   "source": [
    "gs.save('tmp/gs/')\n",
    "gs_1 = GrowingSphere.load_from_path('tmp/gs/')\n",
    "assert gs_1.has_data_module()\n",
    "gs_1.set_apply_constraints_fn(dm.apply_constraints)\n",
    "gs_1.before_generate_cf()\n",
    "\n",
    "cf_1 = gs_1.generate_cf(xs_test[0], pred_fn=model.pred_fn, rng_key=jax.random.PRNGKey(0))\n",
    "assert jnp.allclose(cf, cf_1)\n",
    "\n",
    "shutil.rmtree('tmp/gs/')\n",
    "gs.save('tmp/gs/', save_data_module=False)\n",
    "gs_2 = GrowingSphere.load_from_path('tmp/gs/')\n",
    "assert not gs_2.has_data_module()"
   ]
  },
  {
   "cell_type": "code",
   "execution_count": null,
   "metadata": {},
   "outputs": [
    {
     "data": {
      "application/vnd.jupyter.widget-view+json": {
       "model_id": "e6cff5dd3fe34fb0ab66def5f5368e85",
       "version_major": 2,
       "version_minor": 0
      },
      "text/plain": [
       "  0%|          | 0/100 [00:00<?, ?it/s]"
      ]
     },
     "metadata": {},
     "output_type": "display_data"
    },
    {
     "name": "stdout",
     "output_type": "stream",
     "text": [
      "Validity:  1.0\n"
     ]
    }
   ],
   "source": [
    "#| eval: false\n",
    "partial_gen = partial(gs.generate_cf, pred_fn=model.pred_fn)\n",
    "cfs = jax.jit(jax.vmap(partial_gen))(xs_test, rng_key=jrand.split(jrand.PRNGKey(0), len(xs_test)))\n",
    "\n",
    "assert cfs.shape == (x_shape[0], x_shape[1])\n",
    "\n",
    "print(\"Validity: \", keras.metrics.binary_accuracy(\n",
    "    (1 - model.pred_fn(xs_test)).round(),\n",
    "    model.pred_fn(cfs[:, :])\n",
    ").mean())"
   ]
  }
 ],
 "metadata": {
  "kernelspec": {
   "display_name": "python3",
   "language": "python",
   "name": "python3"
  }
 },
 "nbformat": 4,
 "nbformat_minor": 2
}
