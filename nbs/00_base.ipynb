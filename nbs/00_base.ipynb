{
 "cells": [
  {
   "cell_type": "markdown",
   "metadata": {},
   "source": [
    "# Base APIs"
   ]
  },
  {
   "cell_type": "code",
   "execution_count": null,
   "metadata": {},
   "outputs": [],
   "source": [
    "#| default_exp base"
   ]
  },
  {
   "cell_type": "code",
   "execution_count": null,
   "metadata": {},
   "outputs": [],
   "source": [
    "#| export\n",
    "from pydantic import BaseModel as BasePydanticModel\n",
    "import json\n",
    "from pathlib import Path\n"
   ]
  },
  {
   "cell_type": "code",
   "execution_count": null,
   "metadata": {},
   "outputs": [],
   "source": [
    "#| hide\n",
    "import shutil\n",
    "import os\n",
    "from fastcore.test import *"
   ]
  },
  {
   "cell_type": "code",
   "execution_count": null,
   "metadata": {},
   "outputs": [],
   "source": [
    "#| export\n",
    "class BaseConfig(BasePydanticModel):\n",
    "    \"\"\"Base class for all config classes.\"\"\"\n",
    "\n",
    "    def save(self, path):\n",
    "        p = Path(path)\n",
    "        if not str(p).endswith('.json'):\n",
    "            raise ValueError(f\"Path must end with `.json`, but got: {p}\")\n",
    "        if not p.parent.exists():\n",
    "            p.parent.mkdir(parents=True)\n",
    "        with open(path, 'w') as f:\n",
    "            json.dump(self.dict(), f, indent=4)\n",
    "    \n",
    "    @classmethod\n",
    "    def load_from_json(cls, path):\n",
    "        p = Path(path)\n",
    "        if not p.exists():\n",
    "            raise FileNotFoundError(f\"File not found: {p}\")\n",
    "        with open(path, 'r') as f:\n",
    "            return cls(**json.load(f))"
   ]
  },
  {
   "cell_type": "code",
   "execution_count": null,
   "metadata": {},
   "outputs": [],
   "source": [
    "class ConfigTest(BaseConfig):\n",
    "    a: int = 1\n",
    "    b: str = 'b'\n",
    "    c: float = 3.14\n",
    "\n",
    "conf = ConfigTest()\n",
    "conf.save('test.json')\n",
    "conf2 = ConfigTest.load_from_json('test.json')\n",
    "assert conf == conf2\n",
    "# remove test.json\n",
    "os.remove('test.json')\n",
    "\n",
    "conf = ConfigTest()\n",
    "conf.save('tmp/test.json')\n",
    "conf2 = ConfigTest.load_from_json('tmp/test.json')\n",
    "assert conf == conf2\n",
    "shutil.rmtree('tmp')\n",
    "\n",
    "test_fail(lambda: conf.save('test'), contains=\"Path must end with `.json`,\")\n",
    "test_fail(lambda: ConfigTest.load_from_json('test.json'), contains=\"File not found\")\n"
   ]
  },
  {
   "cell_type": "code",
   "execution_count": null,
   "metadata": {},
   "outputs": [],
   "source": [
    "#| export\n",
    "class BaseModule:\n",
    "    \"\"\"Base class for all modules.\"\"\"\n",
    "    def __init__(self, config, *, name=None):\n",
    "        self.config = config\n",
    "        self._name = name\n",
    "\n",
    "    @property\n",
    "    def name(self):\n",
    "        return self._name or self.__class__.__name__\n",
    "    \n",
    "    def save(self, path):\n",
    "        raise NotImplementedError\n",
    "\n",
    "    @classmethod\n",
    "    def load_from_path(cls, path):\n",
    "        raise NotImplementedError"
   ]
  },
  {
   "cell_type": "code",
   "execution_count": null,
   "metadata": {},
   "outputs": [],
   "source": [
    "class TestModule(BaseModule):\n",
    "    def save(self, path):\n",
    "        self.config.save(Path(path) / 'config.json')\n",
    "\n",
    "    def load_from_path(self, path):\n",
    "        self.config = ConfigTest.load_from_json(Path(path) / 'config.json')\n",
    "\n",
    "conf = ConfigTest()\n",
    "module = TestModule(conf)\n",
    "assert module.name == 'TestModule'\n",
    "module.save('tmp')\n",
    "module.load_from_path('tmp')\n",
    "assert module.config == conf\n",
    "shutil.rmtree('tmp')"
   ]
  },
  {
   "cell_type": "code",
   "execution_count": null,
   "metadata": {},
   "outputs": [],
   "source": [
    "#| export\n",
    "class PredFnMixedin:\n",
    "    \"\"\"Mixin class for modules that have a `pred_fn` method.\"\"\"\n",
    "    \n",
    "    def pred_fn(self, x):\n",
    "        \"\"\"Return the prediction/probability of the model on `x`.\"\"\"\n",
    "        raise NotImplementedError\n",
    "    \n",
    "    __ALL__ = ['pred_fn']"
   ]
  },
  {
   "cell_type": "code",
   "execution_count": null,
   "metadata": {},
   "outputs": [],
   "source": [
    "#| export\n",
    "class TrainableMixedin:\n",
    "    \"\"\"Mixin class for trainable modules.\"\"\"\n",
    "    \n",
    "    @property\n",
    "    def is_trained(self) -> bool:\n",
    "        \"\"\"Return whether the module is trained or not.\"\"\"\n",
    "        self._is_trained = getattr(self, '_is_trained', False)\n",
    "        return self._is_trained\n",
    "    \n",
    "    def train(self, data, **kwargs):\n",
    "        \"\"\"Train the module.\"\"\"\n",
    "        raise NotImplementedError\n",
    "    \n",
    "    __ALL__ = ['is_trained', 'train']"
   ]
  }
 ],
 "metadata": {
  "kernelspec": {
   "display_name": "python3",
   "language": "python",
   "name": "python3"
  }
 },
 "nbformat": 4,
 "nbformat_minor": 4
}
