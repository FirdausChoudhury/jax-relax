{
 "cells": [
  {
   "attachments": {},
   "cell_type": "markdown",
   "metadata": {},
   "source": [
    "# ReLax\n",
    "\n",
    "> Recourse Explanation Library in JAX."
   ]
  },
  {
   "attachments": {},
   "cell_type": "markdown",
   "metadata": {},
   "source": [
    "![Python](https://img.shields.io/pypi/pyversions/jax-relax.svg)\n",
    "![CI status](https://github.com/BirkhoffG/jax-relax/actions/workflows/test.yaml/badge.svg)\n",
    "![Docs](https://github.com/BirkhoffG/jax-relax/actions/workflows/deploy.yaml/badge.svg)\n",
    "![pypi](https://img.shields.io/pypi/v/jax-relax.svg)\n",
    "![GitHub License](https://img.shields.io/github/license/BirkhoffG/jax-relax.svg)\n",
    "\n",
    "[**Overview**](#overview) | \n",
    "[**Installation**](#installation) | \n",
    "[**Tutorials**](https://birkhoffg.github.io/jax-relax/tutorials/getting_started.html) | \n",
    "[**Documentation**](https://birkhoffg.github.io/jax-relax/) | \n",
    "[**Citing ReLax**](#citing-relax) \n"
   ]
  },
  {
   "attachments": {},
   "cell_type": "markdown",
   "metadata": {},
   "source": [
    "## Overview\n",
    "\n",
    "`ReLax` (**Re**course Explanation **L**ibrary in J**ax**) is an efficient and scalable \n",
    "benchmarking library for recourse and counterfactual explanations, built on top of [jax](https://jax.readthedocs.io/en/latest/).\n",
    "By leveraging language primitives such as *vectorization*, *parallelization*, and *just-in-time* compilation in \n",
    "[jax](https://jax.readthedocs.io/en/latest/),\n",
    "`ReLax` offers massive speed improvements in generating individual (or local) explanations\n",
    "for predictions made by Machine Learning algorithms.\n",
    "\n",
    "Some of the key features are as follows:\n",
    "\n",
    "* 🏃 **Fast and scalable** recourse generation.\n",
    "\n",
    "* 🚀 **Accelerated** over `cpu`, `gpu`, `tpu`.\n",
    "\n",
    "* 🪓  **Comprehensive** set of recourse methods implemented for benchmarking.\n",
    "\n",
    "* 👐 **Customizable** API to enable the building of entire modeling and interpretation pipelines for new recourse algorithms."
   ]
  },
  {
   "attachments": {},
   "cell_type": "markdown",
   "metadata": {},
   "source": [
    "## Installation\n",
    "\n",
    "```bash\n",
    "pip install jax-relax\n",
    "# Or install the latest version of `jax-relax`\n",
    "pip install git+https://github.com/BirkhoffG/jax-relax.git \n",
    "```\n",
    "\n",
    "To futher unleash the power of accelerators (i.e., GPU/TPU), \n",
    "we suggest to first install this library via `pip install jax-relax`.\n",
    "Then, follow steps in the [official install guidelines](https://github.com/google/jax#installation)\n",
    "to install the right version for GPU or TPU.\n",
    "\n"
   ]
  },
  {
   "cell_type": "markdown",
   "metadata": {},
   "source": [
    "## Dive into `ReLax`\n",
    "\n",
    "`ReLax` is a recourse explanation library for explaining (any) JAX-based ML models.\n",
    "We believe that it is important to give users flexibility to choose how to use `ReLax`. You can\n",
    "\n",
    "* only use methods implemeted in `ReLax` (as a recourse methods library);\n",
    "* build a pipeline using `ReLax` to define data module, training ML models, and generating CF explanation (for constructing recourse benchmarking pipeline)."
   ]
  },
  {
   "cell_type": "markdown",
   "metadata": {},
   "source": [
    "### `ReLax` as a Recourse Explanation Library\n",
    "\n",
    "We introduce basic use cases of using methods in `ReLax` to generate recourse explanations.\n",
    "For more advanced usages of methods in `ReLax`, See this [tutorials](tutorials/methods.ipynb)."
   ]
  },
  {
   "cell_type": "code",
   "execution_count": null,
   "metadata": {},
   "outputs": [],
   "source": [
    "#| output: false\n",
    "from relax.methods import VanillaCF\n",
    "from relax import DataModule, MLModule, generate_cf_explanations, benchmark_cfs\n",
    "from sklearn.datasets import make_classification\n",
    "from sklearn.model_selection import train_test_split\n",
    "import functools as ft\n",
    "import jax"
   ]
  },
  {
   "cell_type": "markdown",
   "metadata": {},
   "source": [
    "Let's first generate synthetic data:"
   ]
  },
  {
   "cell_type": "code",
   "execution_count": null,
   "metadata": {},
   "outputs": [],
   "source": [
    "xs, ys = make_classification(n_samples=1000, n_features=10, random_state=42)\n",
    "train_xs, test_xs, train_ys, test_ys = train_test_split(xs, ys, random_state=42)"
   ]
  },
  {
   "cell_type": "markdown",
   "metadata": {},
   "source": [
    "Next, we fit an MLP model for this data. Note that this model can be any model implmented in JAX. \n",
    "We will use the `MLModule` in `ReLax` as an example."
   ]
  },
  {
   "cell_type": "code",
   "execution_count": null,
   "metadata": {},
   "outputs": [
    {
     "name": "stdout",
     "output_type": "stream",
     "text": [
      "Epoch 1/10\n"
     ]
    },
    {
     "name": "stdout",
     "output_type": "stream",
     "text": [
      "\u001b[1m12/12\u001b[0m \u001b[32m━━━━━━━━━━━━━━━━━━━━\u001b[0m\u001b[37m\u001b[0m \u001b[1m2s\u001b[0m 71ms/step - accuracy: 0.5543 - loss: 1.5180 \n",
      "Epoch 2/10\n",
      "\u001b[1m12/12\u001b[0m \u001b[32m━━━━━━━━━━━━━━━━━━━━\u001b[0m\u001b[37m\u001b[0m \u001b[1m0s\u001b[0m 3ms/step - accuracy: 0.6726 - loss: 1.0394\n",
      "Epoch 3/10\n",
      "\u001b[1m12/12\u001b[0m \u001b[32m━━━━━━━━━━━━━━━━━━━━\u001b[0m\u001b[37m\u001b[0m \u001b[1m0s\u001b[0m 5ms/step - accuracy: 0.6912 - loss: 0.8663\n",
      "Epoch 4/10\n",
      "\u001b[1m12/12\u001b[0m \u001b[32m━━━━━━━━━━━━━━━━━━━━\u001b[0m\u001b[37m\u001b[0m \u001b[1m0s\u001b[0m 4ms/step - accuracy: 0.7281 - loss: 0.6493\n",
      "Epoch 5/10\n",
      "\u001b[1m12/12\u001b[0m \u001b[32m━━━━━━━━━━━━━━━━━━━━\u001b[0m\u001b[37m\u001b[0m \u001b[1m0s\u001b[0m 3ms/step - accuracy: 0.7750 - loss: 0.5930\n",
      "Epoch 6/10\n",
      "\u001b[1m12/12\u001b[0m \u001b[32m━━━━━━━━━━━━━━━━━━━━\u001b[0m\u001b[37m\u001b[0m \u001b[1m0s\u001b[0m 3ms/step - accuracy: 0.7855 - loss: 0.6414\n",
      "Epoch 7/10\n",
      "\u001b[1m12/12\u001b[0m \u001b[32m━━━━━━━━━━━━━━━━━━━━\u001b[0m\u001b[37m\u001b[0m \u001b[1m0s\u001b[0m 2ms/step - accuracy: 0.7608 - loss: 0.5931\n",
      "Epoch 8/10\n",
      "\u001b[1m12/12\u001b[0m \u001b[32m━━━━━━━━━━━━━━━━━━━━\u001b[0m\u001b[37m\u001b[0m \u001b[1m0s\u001b[0m 3ms/step - accuracy: 0.7656 - loss: 0.5086\n",
      "Epoch 9/10\n",
      "\u001b[1m12/12\u001b[0m \u001b[32m━━━━━━━━━━━━━━━━━━━━\u001b[0m\u001b[37m\u001b[0m \u001b[1m0s\u001b[0m 5ms/step - accuracy: 0.8025 - loss: 0.5225\n",
      "Epoch 10/10\n",
      "\u001b[1m12/12\u001b[0m \u001b[32m━━━━━━━━━━━━━━━━━━━━\u001b[0m\u001b[37m\u001b[0m \u001b[1m0s\u001b[0m 4ms/step - accuracy: 0.7986 - loss: 0.5652 \n"
     ]
    },
    {
     "data": {
      "text/plain": [
       "<relax.ml_model.MLModule>"
      ]
     },
     "execution_count": null,
     "metadata": {},
     "output_type": "execute_result"
    }
   ],
   "source": [
    "#| output: false\n",
    "model = MLModule()\n",
    "model.train((train_xs, train_ys), epochs=10, batch_size=64)"
   ]
  },
  {
   "cell_type": "markdown",
   "metadata": {},
   "source": [
    "Generating recourse explanations are straightforward. \n",
    "We can simply call `generate_cf` of an implemented recourse method to generate *one* recourse explanation:"
   ]
  },
  {
   "cell_type": "code",
   "execution_count": null,
   "metadata": {},
   "outputs": [
    {
     "data": {
      "application/vnd.jupyter.widget-view+json": {
       "model_id": "72ee1374f4ce46849f65cc1b9f0a3a28",
       "version_major": 2,
       "version_minor": 0
      },
      "text/plain": [
       "  0%|          | 0/100 [00:00<?, ?it/s]"
      ]
     },
     "metadata": {},
     "output_type": "display_data"
    }
   ],
   "source": [
    "#| output: false\n",
    "vcf = VanillaCF(config={'n_steps': 1000, 'lr': 0.05})\n",
    "cf = vcf.generate_cf(test_xs[0], model.pred_fn)\n",
    "assert cf.shape == test_xs[0].shape"
   ]
  },
  {
   "cell_type": "markdown",
   "metadata": {},
   "source": [
    "Or generate a bunch of recourse explanations with `jax.vmap`:"
   ]
  },
  {
   "cell_type": "code",
   "execution_count": null,
   "metadata": {},
   "outputs": [
    {
     "data": {
      "application/vnd.jupyter.widget-view+json": {
       "model_id": "c0ae339ff26e4b1e8049fac7f69b6b95",
       "version_major": 2,
       "version_minor": 0
      },
      "text/plain": [
       "  0%|          | 0/100 [00:00<?, ?it/s]"
      ]
     },
     "metadata": {},
     "output_type": "display_data"
    }
   ],
   "source": [
    "#| output: false\n",
    "generate_fn = ft.partial(vcf.generate_cf, pred_fn=model.pred_fn)\n",
    "cfs = jax.vmap(generate_fn)(test_xs)\n",
    "assert cfs.shape == test_xs.shape"
   ]
  },
  {
   "cell_type": "markdown",
   "metadata": {},
   "source": [
    "### `ReLax` for Building Recourse Explanation Pipelines\n",
    "\n",
    "\n",
    "The above example illustrates the usage of the decoupled `relax.methods` to generate recourse explanations. \n",
    "However, users are required to write boilerplate code for tasks such as data preprocessing, model training, and generating recourse explanations with feature constraints.\n",
    "\n",
    "`ReLax` additionally offers a one-liner framework, streamlining the process and helping users in building a standardized pipeline for generating recourse explanations.\n",
    "You can write three lines of code to benchmark recourse explanations:"
   ]
  },
  {
   "cell_type": "code",
   "execution_count": null,
   "metadata": {},
   "outputs": [
    {
     "data": {
      "application/vnd.jupyter.widget-view+json": {
       "model_id": "8658af46d4a34a2b946797b0a80592f9",
       "version_major": 2,
       "version_minor": 0
      },
      "text/plain": [
       "  0%|          | 0/100 [00:00<?, ?it/s]"
      ]
     },
     "metadata": {},
     "output_type": "display_data"
    },
    {
     "data": {
      "text/html": [
       "<div>\n",
       "<style scoped>\n",
       "    .dataframe tbody tr th:only-of-type {\n",
       "        vertical-align: middle;\n",
       "    }\n",
       "\n",
       "    .dataframe tbody tr th {\n",
       "        vertical-align: top;\n",
       "    }\n",
       "\n",
       "    .dataframe thead th {\n",
       "        text-align: right;\n",
       "    }\n",
       "</style>\n",
       "<table border=\"1\" class=\"dataframe\">\n",
       "  <thead>\n",
       "    <tr style=\"text-align: right;\">\n",
       "      <th></th>\n",
       "      <th></th>\n",
       "      <th>acc</th>\n",
       "      <th>validity</th>\n",
       "      <th>proximity</th>\n",
       "    </tr>\n",
       "  </thead>\n",
       "  <tbody>\n",
       "    <tr>\n",
       "      <th>DataModule</th>\n",
       "      <th>VanillaCF</th>\n",
       "      <td>0.702</td>\n",
       "      <td>0.836</td>\n",
       "      <td>1.06917</td>\n",
       "    </tr>\n",
       "  </tbody>\n",
       "</table>\n",
       "</div>"
      ],
      "text/plain": [
       "                        acc  validity  proximity\n",
       "DataModule VanillaCF  0.702     0.836    1.06917"
      ]
     },
     "execution_count": null,
     "metadata": {},
     "output_type": "execute_result"
    }
   ],
   "source": [
    "#| output: false\n",
    "data_module = DataModule.from_numpy(xs, ys)\n",
    "exps = generate_cf_explanations(vcf, data_module, model.pred_fn)\n",
    "benchmark_cfs([exps])"
   ]
  },
  {
   "cell_type": "markdown",
   "metadata": {},
   "source": [
    "See [Getting Started with ReLax](https://birkhoffg.github.io/jax-relax/tutorials/getting_started.html)\n",
    "for an end-to-end example of using `ReLax`.\n"
   ]
  },
  {
   "cell_type": "markdown",
   "metadata": {},
   "source": [
    "## Supported Recourse Methods\n",
    "\n",
    "`ReLax` currently provides implementations of 8 recourse explanation methods.\n",
    "\n",
    "| Method          | Type            | Paper Title                                                                                    | Ref                                     |\n",
    "|-----------------|-----------------|------------------------------------------------------------------------------------------------|-----------------------------------------|\n",
    "| `VanillaCF`     | Non-Parametric  | Counterfactual Explanations without Opening the Black Box: Automated Decisions and the GDPR.   | [[1]](https://arxiv.org/abs/1711.00399) |\n",
    "| `DiverseCF`     | Non-Parametric  | Explaining Machine Learning Classifiers through Diverse Counterfactual Explanations.           | [[2]](https://arxiv.org/abs/1905.07697) |\n",
    "| `ProtoCF`       | Semi-Parametric | Interpretable Counterfactual Explanations Guided by Prototypes.                                | [[3]](https://arxiv.org/abs/1907.02584) |\n",
    "| `CounterNet`    | Parametric      | CounterNet: End-to-End Training of Prediction Aware Counterfactual Explanations.               | [[4]](https://arxiv.org/abs/2109.07557) |\n",
    "| `GrowingSphere` | Non-Parametric  | Inverse Classification for Comparison-based Interpretability in Machine Learning.              | [[5]](https://arxiv.org/abs/1712.08443) |\n",
    "| `CCHVAE`        | Semi-Parametric | Learning Model-Agnostic Counterfactual Explanations for Tabular Data.                          | [[6]](https://arxiv.org/abs/1910.09398) |\n",
    "| `VAECF`         | Parametric      | Preserving Causal Constraints in Counterfactual Explanations for Machine Learning Classifiers. | [[7]](https://arxiv.org/abs/1912.03277) |\n",
    "| `CLUE`          | Semi-Parametric | Getting a CLUE: A Method for Explaining Uncertainty Estimates.                                 | [[8]](https://arxiv.org/abs/2006.06848) |\n",
    "| `L2C`           | Parametric      | Feature-based Learning for Diverse and Privacy-Preserving Counterfactual Explanations          | [[9]](https://arxiv.org/abs/2209.13446) |\n",
    "\n",
    ": {tbl-colwidths=\"[17, 13, 65, 5]\"}\n"
   ]
  },
  {
   "attachments": {},
   "cell_type": "markdown",
   "metadata": {},
   "source": [
    "## Citing `ReLax`\n",
    "\n",
    "To cite this repository:\n",
    "\n",
    "```latex\n",
    "@software{relax2023github,\n",
    "  author = {Hangzhi Guo and Xinchang Xiong and Amulya Yadav},\n",
    "  title = {{R}e{L}ax: Recourse Explanation Library in Jax},\n",
    "  url = {http://github.com/birkhoffg/jax-relax},\n",
    "  version = {0.2.0},\n",
    "  year = {2023},\n",
    "}\n",
    "```"
   ]
  }
 ],
 "metadata": {
  "kernelspec": {
   "display_name": "python3",
   "language": "python",
   "name": "python3"
  }
 },
 "nbformat": 4,
 "nbformat_minor": 2
}
